{
  "nbformat": 4,
  "nbformat_minor": 0,
  "metadata": {
    "colab": {
      "provenance": [],
      "authorship_tag": "ABX9TyMgip8sOaRxvDvpc/cREoWj",
      "include_colab_link": true
    },
    "kernelspec": {
      "name": "python3",
      "display_name": "Python 3"
    },
    "language_info": {
      "name": "python"
    }
  },
  "cells": [
    {
      "cell_type": "markdown",
      "metadata": {
        "id": "view-in-github",
        "colab_type": "text"
      },
      "source": [
        "<a href=\"https://colab.research.google.com/github/conexaointegral/Projeto_Imersao-IA_ALURA-GOOGLE/blob/main/Desafio_Imers%C3%A3o_IA_Alura_Gemini_Google_01.ipynb\" target=\"_parent\"><img src=\"https://colab.research.google.com/assets/colab-badge.svg\" alt=\"Open In Colab\"/></a>"
      ]
    },
    {
      "cell_type": "markdown",
      "source": [
        "# Desafio : O Projeto que você quiser (Algo que gere conteúdo, dê respostas, chatbot, etc)\n",
        "Seguindo as regras estabelecidas:\n",
        "\n",
        "1. Ter relação com o conteúdo da inserção.\n",
        "*Obrigatório usar a API do Google GEMINI\n",
        "*Utilizar o modelo Gemini do Google\n",
        "\n",
        "2. Você pode criar quantos projetos você quiser.\n",
        "\n",
        "3. Enviar o projeto pelo Google Forms : nome completo, email, link GITHUB até às 23h59 do sábado.\n",
        "\n",
        "4. O Discord terá integração com o Google Forms , que serão analisados e votados pelos participantes. Os 30 mais votados seguiráo para 2a.fase de avaliação.\n",
        "\n",
        "5. Será executada uma 2a.análise dos 30 projetos pela ALURA e pelo GOOGLE com juízes internos, sob os seguintes critérios : 1.UTILIDADE (útil, gera valor, que problema resolve) ; 2.CRIATIVIDADE (ir além e utilizar a infraestrutura) ; 3.EFICÁCIA (quão bem resolve o problema proposto) ; 4.APRESENTAÇÃO (Colab conectado com GITHUB, explicação, documentação e visualização) ; Regras de conduta, aquele que for ANTI ÉTICO será desclassificado.\n",
        "\n",
        "6. Seleção dos 10 PROJETOS VENCEDORES, serão compartilhados com todos na LIVE de 2a.f: 13/mai/24 às 18h30\n",
        "\n"
      ],
      "metadata": {
        "id": "BzhS8EeLdhwh"
      }
    },
    {
      "cell_type": "code",
      "execution_count": null,
      "metadata": {
        "id": "j9c8wJxsddTz"
      },
      "outputs": [],
      "source": []
    }
  ]
}